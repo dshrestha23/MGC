{
  "nbformat": 4,
  "nbformat_minor": 0,
  "metadata": {
    "colab": {
      "provenance": []
    },
    "kernelspec": {
      "name": "python3",
      "display_name": "Python 3"
    },
    "language_info": {
      "name": "python"
    }
  },
  "cells": [
    {
      "cell_type": "code",
      "source": [
        "#Imports\n",
        "\n",
        "import os\n",
        "import librosa\n",
        "import numpy as np\n",
        "from sklearn.preprocessing import StandardScaler,OneHotEncoder,LabelEncoder\n",
        "from sklearn.utils import shuffle\n",
        "from sklearn.model_selection import train_test_split\n",
        "from keras.utils import to_categorical\n",
        "from keras.models import Sequential\n",
        "from keras.layers import Conv2D, MaxPooling2D, Flatten, Dense, Dropout, BatchNormalization, AveragePooling2D\n",
        "from keras.layers import Conv1D, MaxPooling1D, AveragePooling1D\n",
        "from keras.optimizers import Adam\n",
        "from keras.regularizers import l2\n",
        "from keras.callbacks import EarlyStopping\n",
        "from keras import initializers\n",
        "from keras.callbacks import LearningRateScheduler\n",
        "import cv2\n",
        "from PIL import Image"
      ],
      "metadata": {
        "id": "rKYX7nh1Fh4T"
      },
      "execution_count": 6,
      "outputs": []
    },
    {
      "cell_type": "code",
      "source": [
        "from google.colab import drive\n",
        "drive.mount('/content/drive')"
      ],
      "metadata": {
        "colab": {
          "base_uri": "https://localhost:8080/"
        },
        "id": "2osa-9JHFqcT",
        "outputId": "65f31f9f-d56e-4cfd-edeb-3ae03b6b164a"
      },
      "execution_count": 3,
      "outputs": [
        {
          "output_type": "stream",
          "name": "stdout",
          "text": [
            "Mounted at /content/drive\n"
          ]
        }
      ]
    },
    {
      "cell_type": "code",
      "source": [
        "# Load data\n",
        "\n",
        "# Initialize empty list to store features and corresponding labels\n",
        "mfcc_features = []\n",
        "labels = []\n",
        "# Manual genre mapping\n",
        "genre_mapping = {'blues':0, 'classical':1, 'country':2, 'disco':3, 'hiphop':4, 'jazz':5, 'metal':6, 'pop':7, 'reggae':8, 'rock':9}\n",
        "# Initialize path of the dataset, sample ratio, segement duration and overlap\n",
        "dataset_path = \"/content/drive/MyDrive/Data\"\n",
        "segment_duration = 3\n",
        "overlap = 0.5\n",
        "SR = 22050\n",
        "# SR = 44100\n",
        "n_fft=2048\n",
        "hop_length=512\n",
        "# n_fft=4096\n",
        "# hop_length=256\n",
        "\n",
        "# Iterate through each genre folder\n",
        "for genre in os.listdir(dataset_path):\n",
        "    genre_path = os.path.join(dataset_path, genre)\n",
        "    print(len(labels))\n",
        "    print(genre)\n",
        "    # Iterate through each audio file in the genre folder\n",
        "    for filename in os.listdir(genre_path):\n",
        "       music_path = os.path.join(genre_path, filename)\n",
        "       try:\n",
        "           # Load the audio file\n",
        "           y, sr = librosa.load(music_path, sr=SR)\n",
        "\n",
        "           # Calculate the number of samples per segment\n",
        "           segment_samples = int(segment_duration * sr)\n",
        "\n",
        "           # Calculate the number of samples to overlap\n",
        "           overlap_samples = int(overlap * segment_samples)\n",
        "\n",
        "           # Extract MFCC features for each segment\n",
        "           for i in range(0, len(y) - segment_samples + 1, segment_samples - overlap_samples):\n",
        "                segment = y[i:i + segment_samples]\n",
        "\n",
        "                # Extract MFCC features\n",
        "                mfcc = librosa.feature.mfcc(y=segment, sr=sr, n_mfcc=13,n_fft=n_fft, hop_length=hop_length)\n",
        "                mfcc = mfcc.T\n",
        "\n",
        "                # Append the MFCC features and corresponding label\n",
        "                mfcc_features.append(mfcc)\n",
        "                labels.append(genre_mapping[genre])\n",
        "\n",
        "       except Exception as e:\n",
        "            print(f\"Error processing {music_path}: {e}\")"
      ],
      "metadata": {
        "id": "MlNcjp0cUot2",
        "colab": {
          "base_uri": "https://localhost:8080/"
        },
        "outputId": "2f634541-7df6-4af3-d2e3-1a4a29c679c0"
      },
      "execution_count": 4,
      "outputs": [
        {
          "output_type": "stream",
          "name": "stdout",
          "text": [
            "0\n",
            "reggae\n",
            "1900\n",
            "pop\n",
            "3800\n",
            "blues\n",
            "5700\n",
            "disco\n",
            "7599\n",
            "hiphop\n",
            "9497\n",
            "classical\n",
            "11395\n",
            "metal\n",
            "13295\n",
            "jazz\n",
            "15195\n",
            "country\n",
            "17092\n",
            "rock\n"
          ]
        }
      ]
    },
    {
      "cell_type": "code",
      "source": [
        "# Convert the labels to numpy array\n",
        "labels = np.array(labels)"
      ],
      "metadata": {
        "id": "WSMp2PpEREH_"
      },
      "execution_count": 8,
      "outputs": []
    },
    {
      "cell_type": "code",
      "source": [
        "# Reshape and normalize the mel spectrogram features\n",
        "mfcc1_features = [mfcc.reshape((mfcc.shape[0], mfcc.shape[1], 1)) for mfcc in mfcc_features]\n",
        "mfcc1_features = np.array(mfcc1_features)\n",
        "mfcc1_features = (mfcc1_features - np.mean(mfcc1_features)) / np.std(mfcc1_features)"
      ],
      "metadata": {
        "id": "OhD0Fa6kRTSZ"
      },
      "execution_count": 9,
      "outputs": []
    },
    {
      "cell_type": "code",
      "source": [
        "# Specify the folder path\n",
        "folder_path = '/content/drive/MyDrive/Load_Data'\n",
        "\n",
        "# Ensure the folder exists, create it if necessary\n",
        "os.makedirs(folder_path, exist_ok=True)\n",
        "\n",
        "# Save the NumPy array to the folder\n",
        "np.save(os.path.join(folder_path, 'mfcc1_features_base_3s.npy'), mfcc1_features)\n",
        "np.save(os.path.join(folder_path, 'mfcc1_labels_base_3s.npy'), labels)"
      ],
      "metadata": {
        "id": "rUVdLM-ZRXgl"
      },
      "execution_count": 10,
      "outputs": []
    },
    {
      "cell_type": "code",
      "source": [
        "from sklearn.model_selection import train_test_split\n",
        "\n",
        "X_train, X_temp, y_train, y_temp = train_test_split(mfcc1_features, labels, test_size=0.2, random_state=42)\n",
        "X_val, X_test, y_val, y_test = train_test_split(X_temp, y_temp, test_size=0.5, random_state=42)"
      ],
      "metadata": {
        "id": "-SUGV3SMRvmt"
      },
      "execution_count": 11,
      "outputs": []
    },
    {
      "cell_type": "code",
      "source": [
        "# One-hot encode labels\n",
        "y_train_onehot = to_categorical(y_train,num_classes=10)\n",
        "y_val_onehot = to_categorical(y_val,num_classes=10)\n",
        "y_test_onehot = to_categorical(y_test,num_classes=10)"
      ],
      "metadata": {
        "id": "JS3MVyKlR0aP"
      },
      "execution_count": 12,
      "outputs": []
    },
    {
      "cell_type": "code",
      "source": [
        "n_classes = 10\n",
        "input_shape = (X_train.shape[1], X_train.shape[2])\n",
        "model = Sequential()\n",
        "\n",
        "# Convolutional Layers\n",
        "model.add(Conv1D(filters=32, kernel_size=3, activation='relu', input_shape=input_shape))\n",
        "model.add(AveragePooling1D(pool_size=2, strides=2))\n",
        "model.add(BatchNormalization())\n",
        "\n",
        "# Additional Convolutional Layer\n",
        "model.add(Conv1D(filters=64, kernel_size=3, activation='relu'))\n",
        "model.add(AveragePooling1D(pool_size=2,strides=2))\n",
        "model.add(BatchNormalization())\n",
        "\n",
        "# Another Convolutional Layer\n",
        "model.add(Conv1D(filters=128, kernel_size=2, activation='relu'))\n",
        "model.add(AveragePooling1D(pool_size=2,strides=2))\n",
        "model.add(BatchNormalization())\n",
        "\n",
        "# Another Convolutional Layer\n",
        "model.add(Conv1D(filters=256, kernel_size=2, activation='relu'))\n",
        "model.add(AveragePooling1D(pool_size=2,strides=2))\n",
        "model.add(BatchNormalization())\n",
        "\n",
        "# Flatten Layer\n",
        "model.add(Flatten())\n",
        "\n",
        "# Fully Connected Layers\n",
        "model.add(Dense(256, activation='relu', kernel_regularizer=l2(0.01)))\n",
        "model.add(Dropout(0.6))\n",
        "\n",
        "model.add(Dense(128, activation='relu', kernel_regularizer=l2(0.01)))\n",
        "model.add(Dropout(0.5))\n",
        "\n",
        "# Output Layer\n",
        "model.add(Dense(n_classes, activation='softmax'))\n",
        "\n",
        "# Compile the model\n",
        "model.compile(optimizer=Adam(learning_rate=0.0001), loss='categorical_crossentropy', metrics=['accuracy'])\n",
        "\n",
        "# Display the model summary\n",
        "model.summary()"
      ],
      "metadata": {
        "colab": {
          "base_uri": "https://localhost:8080/"
        },
        "id": "BKFR0wyzSZmn",
        "outputId": "5c3c083a-4613-455f-b744-dcb76489acf9"
      },
      "execution_count": 22,
      "outputs": [
        {
          "output_type": "stream",
          "name": "stdout",
          "text": [
            "Model: \"sequential_8\"\n",
            "_________________________________________________________________\n",
            " Layer (type)                Output Shape              Param #   \n",
            "=================================================================\n",
            " conv1d_26 (Conv1D)          (None, 128, 32)           1280      \n",
            "                                                                 \n",
            " average_pooling1d_22 (Aver  (None, 64, 32)            0         \n",
            " agePooling1D)                                                   \n",
            "                                                                 \n",
            " batch_normalization_26 (Ba  (None, 64, 32)            128       \n",
            " tchNormalization)                                               \n",
            "                                                                 \n",
            " conv1d_27 (Conv1D)          (None, 62, 64)            6208      \n",
            "                                                                 \n",
            " average_pooling1d_23 (Aver  (None, 31, 64)            0         \n",
            " agePooling1D)                                                   \n",
            "                                                                 \n",
            " batch_normalization_27 (Ba  (None, 31, 64)            256       \n",
            " tchNormalization)                                               \n",
            "                                                                 \n",
            " conv1d_28 (Conv1D)          (None, 30, 128)           16512     \n",
            "                                                                 \n",
            " average_pooling1d_24 (Aver  (None, 15, 128)           0         \n",
            " agePooling1D)                                                   \n",
            "                                                                 \n",
            " batch_normalization_28 (Ba  (None, 15, 128)           512       \n",
            " tchNormalization)                                               \n",
            "                                                                 \n",
            " conv1d_29 (Conv1D)          (None, 14, 256)           65792     \n",
            "                                                                 \n",
            " average_pooling1d_25 (Aver  (None, 7, 256)            0         \n",
            " agePooling1D)                                                   \n",
            "                                                                 \n",
            " batch_normalization_29 (Ba  (None, 7, 256)            1024      \n",
            " tchNormalization)                                               \n",
            "                                                                 \n",
            " flatten_8 (Flatten)         (None, 1792)              0         \n",
            "                                                                 \n",
            " dense_24 (Dense)            (None, 256)               459008    \n",
            "                                                                 \n",
            " dropout_16 (Dropout)        (None, 256)               0         \n",
            "                                                                 \n",
            " dense_25 (Dense)            (None, 128)               32896     \n",
            "                                                                 \n",
            " dropout_17 (Dropout)        (None, 128)               0         \n",
            "                                                                 \n",
            " dense_26 (Dense)            (None, 10)                1290      \n",
            "                                                                 \n",
            "=================================================================\n",
            "Total params: 584906 (2.23 MB)\n",
            "Trainable params: 583946 (2.23 MB)\n",
            "Non-trainable params: 960 (3.75 KB)\n",
            "_________________________________________________________________\n"
          ]
        }
      ]
    },
    {
      "cell_type": "code",
      "source": [
        "early_stopping = EarlyStopping(monitor='val_loss', patience=5, restore_best_weights=True)\n",
        "# def lr_schedule(epoch):\n",
        "#     return 0.0001 * 0.9 ** epoch\n",
        "\n",
        "# lr_scheduler = LearningRateScheduler(lr_schedule)\n",
        "# train model\n",
        "history = model.fit(X_train, y_train_onehot, validation_data=(X_val, y_val_onehot), batch_size=64, epochs=100, callbacks=[early_stopping])"
      ],
      "metadata": {
        "colab": {
          "base_uri": "https://localhost:8080/"
        },
        "id": "L0GgF15Aatui",
        "outputId": "6d3179b9-7bc2-47c4-8cbe-d9734719c01e"
      },
      "execution_count": 24,
      "outputs": [
        {
          "output_type": "stream",
          "name": "stdout",
          "text": [
            "Epoch 1/100\n",
            "238/238 [==============================] - 7s 30ms/step - loss: 7.5340 - accuracy: 0.3488 - val_loss: 6.8625 - val_accuracy: 0.5061\n",
            "Epoch 2/100\n",
            "238/238 [==============================] - 6s 27ms/step - loss: 6.8366 - accuracy: 0.4056 - val_loss: 6.1734 - val_accuracy: 0.5782\n",
            "Epoch 3/100\n",
            "238/238 [==============================] - 7s 29ms/step - loss: 6.1943 - accuracy: 0.4544 - val_loss: 5.5961 - val_accuracy: 0.6224\n",
            "Epoch 4/100\n",
            "238/238 [==============================] - 6s 27ms/step - loss: 5.6361 - accuracy: 0.4955 - val_loss: 5.0627 - val_accuracy: 0.6440\n",
            "Epoch 5/100\n",
            "238/238 [==============================] - 7s 29ms/step - loss: 5.1057 - accuracy: 0.5328 - val_loss: 4.5694 - val_accuracy: 0.6630\n",
            "Epoch 6/100\n",
            "238/238 [==============================] - 7s 29ms/step - loss: 4.6287 - accuracy: 0.5538 - val_loss: 4.1289 - val_accuracy: 0.6851\n",
            "Epoch 7/100\n",
            "238/238 [==============================] - 6s 27ms/step - loss: 4.1899 - accuracy: 0.5829 - val_loss: 3.7052 - val_accuracy: 0.6977\n",
            "Epoch 8/100\n",
            "238/238 [==============================] - 7s 29ms/step - loss: 3.7824 - accuracy: 0.6049 - val_loss: 3.3351 - val_accuracy: 0.7262\n",
            "Epoch 9/100\n",
            "238/238 [==============================] - 6s 26ms/step - loss: 3.4079 - accuracy: 0.6346 - val_loss: 2.9960 - val_accuracy: 0.7341\n",
            "Epoch 10/100\n",
            "238/238 [==============================] - 7s 28ms/step - loss: 3.0642 - accuracy: 0.6546 - val_loss: 2.6899 - val_accuracy: 0.7399\n",
            "Epoch 11/100\n",
            "238/238 [==============================] - 6s 27ms/step - loss: 2.7565 - accuracy: 0.6811 - val_loss: 2.4245 - val_accuracy: 0.7541\n",
            "Epoch 12/100\n",
            "238/238 [==============================] - 7s 28ms/step - loss: 2.4811 - accuracy: 0.6973 - val_loss: 2.1772 - val_accuracy: 0.7667\n",
            "Epoch 13/100\n",
            "238/238 [==============================] - 7s 29ms/step - loss: 2.2426 - accuracy: 0.7125 - val_loss: 1.9716 - val_accuracy: 0.7799\n",
            "Epoch 14/100\n",
            "238/238 [==============================] - 6s 27ms/step - loss: 2.0309 - accuracy: 0.7283 - val_loss: 1.7758 - val_accuracy: 0.7867\n",
            "Epoch 15/100\n",
            "238/238 [==============================] - 7s 29ms/step - loss: 1.8399 - accuracy: 0.7464 - val_loss: 1.6111 - val_accuracy: 0.7962\n",
            "Epoch 16/100\n",
            "238/238 [==============================] - 6s 27ms/step - loss: 1.6531 - accuracy: 0.7690 - val_loss: 1.4631 - val_accuracy: 0.8067\n",
            "Epoch 17/100\n",
            "238/238 [==============================] - 7s 29ms/step - loss: 1.5084 - accuracy: 0.7818 - val_loss: 1.3210 - val_accuracy: 0.8146\n",
            "Epoch 18/100\n",
            "238/238 [==============================] - 6s 27ms/step - loss: 1.3934 - accuracy: 0.7899 - val_loss: 1.2209 - val_accuracy: 0.8252\n",
            "Epoch 19/100\n",
            "238/238 [==============================] - 7s 30ms/step - loss: 1.2705 - accuracy: 0.8031 - val_loss: 1.1229 - val_accuracy: 0.8336\n",
            "Epoch 20/100\n",
            "238/238 [==============================] - 7s 29ms/step - loss: 1.1654 - accuracy: 0.8153 - val_loss: 1.0354 - val_accuracy: 0.8362\n",
            "Epoch 21/100\n",
            "238/238 [==============================] - 6s 27ms/step - loss: 1.0706 - accuracy: 0.8241 - val_loss: 1.0130 - val_accuracy: 0.8336\n",
            "Epoch 22/100\n",
            "238/238 [==============================] - 7s 28ms/step - loss: 1.0120 - accuracy: 0.8275 - val_loss: 0.9041 - val_accuracy: 0.8415\n",
            "Epoch 23/100\n",
            "238/238 [==============================] - 6s 26ms/step - loss: 0.9268 - accuracy: 0.8452 - val_loss: 0.8525 - val_accuracy: 0.8520\n",
            "Epoch 24/100\n",
            "238/238 [==============================] - 7s 28ms/step - loss: 0.8715 - accuracy: 0.8533 - val_loss: 0.8023 - val_accuracy: 0.8641\n",
            "Epoch 25/100\n",
            "238/238 [==============================] - 7s 28ms/step - loss: 0.8119 - accuracy: 0.8608 - val_loss: 0.7845 - val_accuracy: 0.8615\n",
            "Epoch 26/100\n",
            "238/238 [==============================] - 7s 27ms/step - loss: 0.7696 - accuracy: 0.8688 - val_loss: 0.7384 - val_accuracy: 0.8668\n",
            "Epoch 27/100\n",
            "238/238 [==============================] - 7s 29ms/step - loss: 0.7204 - accuracy: 0.8760 - val_loss: 0.7173 - val_accuracy: 0.8536\n",
            "Epoch 28/100\n",
            "238/238 [==============================] - 6s 26ms/step - loss: 0.6842 - accuracy: 0.8838 - val_loss: 0.6855 - val_accuracy: 0.8662\n",
            "Epoch 29/100\n",
            "238/238 [==============================] - 7s 29ms/step - loss: 0.6550 - accuracy: 0.8897 - val_loss: 0.6610 - val_accuracy: 0.8652\n",
            "Epoch 30/100\n",
            "238/238 [==============================] - 6s 26ms/step - loss: 0.6152 - accuracy: 0.8979 - val_loss: 0.6510 - val_accuracy: 0.8741\n",
            "Epoch 31/100\n",
            "238/238 [==============================] - 7s 28ms/step - loss: 0.5926 - accuracy: 0.9005 - val_loss: 0.6163 - val_accuracy: 0.8773\n",
            "Epoch 32/100\n",
            "238/238 [==============================] - 7s 28ms/step - loss: 0.5676 - accuracy: 0.9028 - val_loss: 0.5994 - val_accuracy: 0.8773\n",
            "Epoch 33/100\n",
            "238/238 [==============================] - 7s 27ms/step - loss: 0.5485 - accuracy: 0.9081 - val_loss: 0.5821 - val_accuracy: 0.8826\n",
            "Epoch 34/100\n",
            "238/238 [==============================] - 7s 29ms/step - loss: 0.5232 - accuracy: 0.9153 - val_loss: 0.5869 - val_accuracy: 0.8768\n",
            "Epoch 35/100\n",
            "238/238 [==============================] - 6s 27ms/step - loss: 0.4940 - accuracy: 0.9207 - val_loss: 0.5603 - val_accuracy: 0.8878\n",
            "Epoch 36/100\n",
            "238/238 [==============================] - 7s 29ms/step - loss: 0.4926 - accuracy: 0.9191 - val_loss: 0.5565 - val_accuracy: 0.8815\n",
            "Epoch 37/100\n",
            "238/238 [==============================] - 6s 26ms/step - loss: 0.4693 - accuracy: 0.9258 - val_loss: 0.5421 - val_accuracy: 0.8815\n",
            "Epoch 38/100\n",
            "238/238 [==============================] - 7s 29ms/step - loss: 0.4527 - accuracy: 0.9286 - val_loss: 0.5278 - val_accuracy: 0.8899\n",
            "Epoch 39/100\n",
            "238/238 [==============================] - 7s 28ms/step - loss: 0.4370 - accuracy: 0.9352 - val_loss: 0.5245 - val_accuracy: 0.8926\n",
            "Epoch 40/100\n",
            "238/238 [==============================] - 7s 27ms/step - loss: 0.4295 - accuracy: 0.9362 - val_loss: 0.5247 - val_accuracy: 0.8905\n",
            "Epoch 41/100\n",
            "238/238 [==============================] - 7s 31ms/step - loss: 0.4195 - accuracy: 0.9398 - val_loss: 0.5145 - val_accuracy: 0.8968\n",
            "Epoch 42/100\n",
            "238/238 [==============================] - 6s 27ms/step - loss: 0.4019 - accuracy: 0.9431 - val_loss: 0.5034 - val_accuracy: 0.8994\n",
            "Epoch 43/100\n",
            "238/238 [==============================] - 7s 29ms/step - loss: 0.3879 - accuracy: 0.9460 - val_loss: 0.4884 - val_accuracy: 0.9010\n",
            "Epoch 44/100\n",
            "238/238 [==============================] - 6s 27ms/step - loss: 0.3855 - accuracy: 0.9446 - val_loss: 0.4798 - val_accuracy: 0.8957\n",
            "Epoch 45/100\n",
            "238/238 [==============================] - 7s 29ms/step - loss: 0.3749 - accuracy: 0.9475 - val_loss: 0.4719 - val_accuracy: 0.9052\n",
            "Epoch 46/100\n",
            "238/238 [==============================] - 7s 27ms/step - loss: 0.3684 - accuracy: 0.9501 - val_loss: 0.4772 - val_accuracy: 0.9026\n",
            "Epoch 47/100\n",
            "238/238 [==============================] - 7s 28ms/step - loss: 0.3479 - accuracy: 0.9556 - val_loss: 0.4708 - val_accuracy: 0.9057\n",
            "Epoch 48/100\n",
            "238/238 [==============================] - 7s 29ms/step - loss: 0.3474 - accuracy: 0.9544 - val_loss: 0.4625 - val_accuracy: 0.9078\n",
            "Epoch 49/100\n",
            "238/238 [==============================] - 6s 27ms/step - loss: 0.3407 - accuracy: 0.9574 - val_loss: 0.4585 - val_accuracy: 0.9047\n",
            "Epoch 50/100\n",
            "238/238 [==============================] - 7s 29ms/step - loss: 0.3346 - accuracy: 0.9562 - val_loss: 0.4546 - val_accuracy: 0.9073\n",
            "Epoch 51/100\n",
            "238/238 [==============================] - 6s 27ms/step - loss: 0.3206 - accuracy: 0.9611 - val_loss: 0.4471 - val_accuracy: 0.9078\n",
            "Epoch 52/100\n",
            "238/238 [==============================] - 7s 29ms/step - loss: 0.3120 - accuracy: 0.9639 - val_loss: 0.4327 - val_accuracy: 0.9115\n",
            "Epoch 53/100\n",
            "238/238 [==============================] - 7s 28ms/step - loss: 0.3096 - accuracy: 0.9658 - val_loss: 0.4395 - val_accuracy: 0.9042\n",
            "Epoch 54/100\n",
            "238/238 [==============================] - 6s 27ms/step - loss: 0.2995 - accuracy: 0.9648 - val_loss: 0.4285 - val_accuracy: 0.9126\n",
            "Epoch 55/100\n",
            "238/238 [==============================] - 7s 29ms/step - loss: 0.2913 - accuracy: 0.9681 - val_loss: 0.4186 - val_accuracy: 0.9184\n",
            "Epoch 56/100\n",
            "238/238 [==============================] - 6s 27ms/step - loss: 0.2971 - accuracy: 0.9642 - val_loss: 0.4013 - val_accuracy: 0.9210\n",
            "Epoch 57/100\n",
            "238/238 [==============================] - 7s 29ms/step - loss: 0.2868 - accuracy: 0.9669 - val_loss: 0.4263 - val_accuracy: 0.9142\n",
            "Epoch 58/100\n",
            "238/238 [==============================] - 6s 27ms/step - loss: 0.2789 - accuracy: 0.9710 - val_loss: 0.3986 - val_accuracy: 0.9168\n",
            "Epoch 59/100\n",
            "238/238 [==============================] - 7s 29ms/step - loss: 0.2805 - accuracy: 0.9681 - val_loss: 0.3981 - val_accuracy: 0.9221\n",
            "Epoch 60/100\n",
            "238/238 [==============================] - 7s 29ms/step - loss: 0.2783 - accuracy: 0.9674 - val_loss: 0.3906 - val_accuracy: 0.9242\n",
            "Epoch 61/100\n",
            "238/238 [==============================] - 6s 27ms/step - loss: 0.2634 - accuracy: 0.9741 - val_loss: 0.4074 - val_accuracy: 0.9226\n",
            "Epoch 62/100\n",
            "238/238 [==============================] - 7s 29ms/step - loss: 0.2658 - accuracy: 0.9705 - val_loss: 0.3878 - val_accuracy: 0.9226\n",
            "Epoch 63/100\n",
            "238/238 [==============================] - 7s 29ms/step - loss: 0.2560 - accuracy: 0.9731 - val_loss: 0.3932 - val_accuracy: 0.9205\n",
            "Epoch 64/100\n",
            "238/238 [==============================] - 7s 29ms/step - loss: 0.2580 - accuracy: 0.9709 - val_loss: 0.3835 - val_accuracy: 0.9242\n",
            "Epoch 65/100\n",
            "238/238 [==============================] - 6s 27ms/step - loss: 0.2425 - accuracy: 0.9774 - val_loss: 0.4037 - val_accuracy: 0.9168\n",
            "Epoch 66/100\n",
            "238/238 [==============================] - 7s 29ms/step - loss: 0.2430 - accuracy: 0.9766 - val_loss: 0.3620 - val_accuracy: 0.9263\n",
            "Epoch 67/100\n",
            "238/238 [==============================] - 7s 28ms/step - loss: 0.2391 - accuracy: 0.9765 - val_loss: 0.3720 - val_accuracy: 0.9221\n",
            "Epoch 68/100\n",
            "238/238 [==============================] - 6s 27ms/step - loss: 0.2360 - accuracy: 0.9778 - val_loss: 0.3723 - val_accuracy: 0.9205\n",
            "Epoch 69/100\n",
            "238/238 [==============================] - 7s 29ms/step - loss: 0.2340 - accuracy: 0.9777 - val_loss: 0.3645 - val_accuracy: 0.9273\n",
            "Epoch 70/100\n",
            "238/238 [==============================] - 6s 26ms/step - loss: 0.2236 - accuracy: 0.9801 - val_loss: 0.3809 - val_accuracy: 0.9194\n",
            "Epoch 71/100\n",
            "238/238 [==============================] - 7s 29ms/step - loss: 0.2294 - accuracy: 0.9787 - val_loss: 0.3646 - val_accuracy: 0.9273\n"
          ]
        }
      ]
    },
    {
      "cell_type": "code",
      "source": [
        "X_test1 = X_test[0:1000]"
      ],
      "metadata": {
        "id": "gF3oNn8begkH"
      },
      "execution_count": 25,
      "outputs": []
    },
    {
      "cell_type": "code",
      "source": [
        "y_test1 = y_test_onehot[0:1000]"
      ],
      "metadata": {
        "id": "4yFIU5l1ez-w"
      },
      "execution_count": 27,
      "outputs": []
    },
    {
      "cell_type": "code",
      "source": [
        "loss, accuracy = model.evaluate(X_test1, y_test1)\n",
        "print(f'Test Accuracy: {accuracy:.2f}')"
      ],
      "metadata": {
        "colab": {
          "base_uri": "https://localhost:8080/"
        },
        "id": "yKQ-eKwUeojQ",
        "outputId": "334538ef-9f61-4279-bd62-5ff2482ee373"
      },
      "execution_count": 28,
      "outputs": [
        {
          "output_type": "stream",
          "name": "stdout",
          "text": [
            "32/32 [==============================] - 0s 5ms/step - loss: 0.3576 - accuracy: 0.9320\n",
            "Test Accuracy: 0.93\n"
          ]
        }
      ]
    },
    {
      "cell_type": "code",
      "source": [
        "X_test2 = X_test[1001:1002]"
      ],
      "metadata": {
        "id": "JvWywgROfmQN"
      },
      "execution_count": 29,
      "outputs": []
    },
    {
      "cell_type": "code",
      "source": [
        "len(X_test2)"
      ],
      "metadata": {
        "colab": {
          "base_uri": "https://localhost:8080/"
        },
        "id": "j3P1C930fxd3",
        "outputId": "cf499ca8-948b-4968-9dfa-3903a5d1e4f8"
      },
      "execution_count": 30,
      "outputs": [
        {
          "output_type": "execute_result",
          "data": {
            "text/plain": [
              "1"
            ]
          },
          "metadata": {},
          "execution_count": 30
        }
      ]
    },
    {
      "cell_type": "code",
      "source": [
        "prediction = model.predict(X_test2)"
      ],
      "metadata": {
        "colab": {
          "base_uri": "https://localhost:8080/"
        },
        "id": "Y6a1WcAifApW",
        "outputId": "c80b3706-d70d-4ba3-daa6-2f7723478d74"
      },
      "execution_count": 31,
      "outputs": [
        {
          "output_type": "stream",
          "name": "stdout",
          "text": [
            "1/1 [==============================] - 0s 179ms/step\n"
          ]
        }
      ]
    },
    {
      "cell_type": "code",
      "source": [
        "genre1_mapping = {0:'blues', 1:'classical', 2:'country', 3:'disco', 4:'hiphop', 5:'jazz', 6:'metal', 7:'pop', 8:'reggae', 9:'rock'}"
      ],
      "metadata": {
        "id": "xP3W44YqgA-E"
      },
      "execution_count": 32,
      "outputs": []
    },
    {
      "cell_type": "code",
      "source": [
        "# Assuming predictions_onehot is your one-hot encoded prediction\n",
        "predicted_class_index = np.argmax(prediction)\n",
        "\n",
        "# Map the index to the corresponding genre\n",
        "predicted_genre = genre1_mapping.get(predicted_class_index, 'Unknown')\n",
        "\n",
        "print(f\"Predicted Genre: {predicted_genre}\")"
      ],
      "metadata": {
        "colab": {
          "base_uri": "https://localhost:8080/"
        },
        "id": "dIxw8BxugG9w",
        "outputId": "0cd57d9c-ca50-4a6c-b6d2-25770b15fe37"
      },
      "execution_count": 38,
      "outputs": [
        {
          "output_type": "stream",
          "name": "stdout",
          "text": [
            "Predicted Genre: reggae\n"
          ]
        }
      ]
    },
    {
      "cell_type": "code",
      "source": [
        "y_test2 = y_test_onehot[1001:1002]"
      ],
      "metadata": {
        "id": "lULkVTcEgKch"
      },
      "execution_count": 34,
      "outputs": []
    },
    {
      "cell_type": "code",
      "source": [
        "y_test2_true = np.argmax(y_test2)"
      ],
      "metadata": {
        "id": "siXq80mYgXnY"
      },
      "execution_count": 42,
      "outputs": []
    },
    {
      "cell_type": "code",
      "source": [
        "y_test2_true"
      ],
      "metadata": {
        "colab": {
          "base_uri": "https://localhost:8080/"
        },
        "id": "t-OJL6HshLs9",
        "outputId": "8f9c39a5-5629-4d6c-b46e-576e5c52993f"
      },
      "execution_count": 43,
      "outputs": [
        {
          "output_type": "execute_result",
          "data": {
            "text/plain": [
              "8"
            ]
          },
          "metadata": {},
          "execution_count": 43
        }
      ]
    },
    {
      "cell_type": "code",
      "source": [
        "# Specify the folder path\n",
        "folder_path = '/content/drive/MyDrive/Models1'\n",
        "\n",
        "# Ensure the folder exists, create it if necessary\n",
        "os.makedirs(folder_path, exist_ok=True)\n",
        "\n",
        "# Save the NumPy array to the folder\n",
        "model.save(os.path.join(folder_path, 'cnn_mfcc_1D.h5'))\n",
        "model.save(os.path.join(folder_path, 'cnn_mfcc_1D.keras'))"
      ],
      "metadata": {
        "id": "57QmlNKFha0F"
      },
      "execution_count": 46,
      "outputs": []
    },
    {
      "cell_type": "code",
      "source": [
        "y_predict_poss = model.predict(X_test)"
      ],
      "metadata": {
        "colab": {
          "base_uri": "https://localhost:8080/"
        },
        "id": "KwZyQtWWhzYn",
        "outputId": "b5d991ae-4245-4c83-dd20-0ad0d5596ce6"
      },
      "execution_count": 47,
      "outputs": [
        {
          "output_type": "stream",
          "name": "stdout",
          "text": [
            "60/60 [==============================] - 0s 5ms/step\n"
          ]
        }
      ]
    },
    {
      "cell_type": "code",
      "source": [
        "# Convert probabilities to class labels\n",
        "y_pred = np.argmax(y_predict_poss, axis=1)"
      ],
      "metadata": {
        "id": "KQeyht22h--x"
      },
      "execution_count": 48,
      "outputs": []
    },
    {
      "cell_type": "code",
      "source": [
        "# Assuming y_test_onehot[0] and y_pred[0] are the results you provided\n",
        "y_test_true = np.argmax(y_test_onehot, axis=1)  # Convert one-hot to class labels"
      ],
      "metadata": {
        "id": "gM4fvzIHh_qQ"
      },
      "execution_count": 49,
      "outputs": []
    },
    {
      "cell_type": "code",
      "source": [
        "from sklearn.metrics import confusion_matrix\n",
        "import seaborn as sns\n",
        "import matplotlib.pyplot as plt\n",
        "# Calculate the confusion matrix\n",
        "cm = confusion_matrix(y_test_true, y_pred)"
      ],
      "metadata": {
        "id": "qrnTF5MhiEly"
      },
      "execution_count": 52,
      "outputs": []
    },
    {
      "cell_type": "code",
      "source": [
        "# Create a list of labels in the correct order\n",
        "ordered_labels = [genre1_mapping[i] for i in range(len(genre1_mapping))]"
      ],
      "metadata": {
        "id": "Y46l0LvLiPP7"
      },
      "execution_count": 53,
      "outputs": []
    },
    {
      "cell_type": "code",
      "source": [
        "# Plot the confusion matrix as a heatmap\n",
        "plt.figure(figsize=(10, 8))\n",
        "sns.heatmap(cm, annot=True, fmt='d', cmap='Blues', xticklabels=ordered_labels, yticklabels=ordered_labels)\n",
        "plt.xlabel('Predicted')\n",
        "plt.ylabel('True')\n",
        "plt.title('Confusion Matrix')\n",
        "plt.show()"
      ],
      "metadata": {
        "colab": {
          "base_uri": "https://localhost:8080/",
          "height": 718
        },
        "id": "MT1UdUOOiXv_",
        "outputId": "2f2c21ff-859c-4abe-d78e-e9fc911c50a0"
      },
      "execution_count": 54,
      "outputs": [
        {
          "output_type": "display_data",
          "data": {
            "text/plain": [
              "<Figure size 1000x800 with 2 Axes>"
            ],
            "image/png": "[encoded data removed]"
          },
          "metadata": {}
        }
      ]
    },
    {
      "cell_type": "code",
      "source": [],
      "metadata": {
        "id": "gy0kYJxLm4Dq"
      },
      "execution_count": null,
      "outputs": []
    },
    {
      "cell_type": "code",
      "source": [],
      "metadata": {
        "id": "c0Q6q4Nmm4eD"
      },
      "execution_count": null,
      "outputs": []
    },
    {
      "cell_type": "code",
      "source": [
        "# Load data\n",
        "\n",
        "# Initialize empty list to store features and corresponding labels\n",
        "ms_f = []\n",
        "# Initialize a dictionary to store total probabilities for each genre\n",
        "total_probabilities = {genre: 0.0 for genre in genre1_mapping.values()}\n",
        "# Initialize path of the dataset, sample ratio, segement duration and overlap\n",
        "# music_path = \"/content/drive/MyDrive/Data/hiphop/hiphop.00004.wav\"\n",
        "music_path = \"/content/1759.wav\"\n",
        "# mp3_file_path = \"/content/000825.mp3\"\n",
        "# wav_file_path = \"/content/000825.wav\"\n",
        "\n",
        "# audio = AudioSegment.from_mp3(mp3_file_path)\n",
        "# audio.export(wav_file_path, format=\"wav\")\n",
        "# music_path = \"/content/000825.wav\"\n",
        "segment_duration = 3\n",
        "overlap = 0.5\n",
        "SR = 22050\n",
        "# SR = 44100\n",
        "n_fft=2048\n",
        "hop_length=512\n",
        "\n",
        "try:\n",
        "  # Load the audio file\n",
        "  y, sr = librosa.load(music_path, sr=SR)\n",
        "  # Calculate the number of samples per segment\n",
        "  segment_samples = int(segment_duration * sr)\n",
        "  # Calculate the number of samples to overlap\n",
        "  overlap_samples = int(overlap * segment_samples)\n",
        "  # Extract MFCC features for each segment\n",
        "  for i in range(0, len(y) - segment_samples + 1, segment_samples - overlap_samples):\n",
        "    segment = y[i:i + segment_samples]\n",
        "    # Extract MFCC features\n",
        "    mfcc = librosa.feature.mfcc(y=segment, sr=sr, n_mfcc=13,n_fft=n_fft, hop_length=hop_length)\n",
        "    mfcc = mfcc.T\n",
        "    # Append the MFCC features and corresponding label\n",
        "    # ms_f.append(mfcc)\n",
        "    # Reshape the MFCC features to match the input shape expected by the model\n",
        "    mfcc_reshaped = mfcc.reshape((1, mfcc.shape[0], mfcc.shape[1], 1))\n",
        "\n",
        "    # Normalize if needed\n",
        "    mfcc_reshaped = (mfcc_reshaped - np.mean(mfcc_reshaped)) / np.std(mfcc_reshaped)\n",
        "\n",
        "    # Assuming 'model' is your trained CNN model\n",
        "    predictions_onehot = model.predict(mfcc_reshaped)\n",
        "\n",
        "    # Assuming predictions_onehot is your one-hot encoded prediction\n",
        "    predicted_class_index = np.argmax(predictions_onehot)\n",
        "    print(predicted_class_index)\n",
        "    # Map the index to the corresponding genre\n",
        "    predicted_genre = genre1_mapping.get(predicted_class_index, 'Unknown')\n",
        "    # Get the probability for the predicted class\n",
        "    predicted_probability = predictions_onehot[0, predicted_class_index]\n",
        "\n",
        "    # Print results for each segment\n",
        "    print(\"Predicted Genre for Segment:\", predicted_genre)\n",
        "    print(\"Probability for Predicted Genre:\", f\"{predicted_probability * 100:.2f}%\")\n",
        "    # print(predicted_genre)\n",
        "    # print(f\"Predicted Genre for Segment: {predicted_genre}\")\n",
        "    # Accumulate probability for the predicted genre\n",
        "    total_probabilities[predicted_genre] += predicted_probability\n",
        "except Exception as e:\n",
        "  print(f\"Error processing {music_path}: {e}\")\n",
        "# Determine the overall predicted genre based on total probabilities\n",
        "overall_predicted_genre = max(total_probabilities, key=total_probabilities.get)\n",
        "\n",
        "# Print the overall predicted genre\n",
        "print(\"\\nOverall Predicted Genre for the Entire Audio File:\", overall_predicted_genre)"
      ],
      "metadata": {
        "colab": {
          "base_uri": "https://localhost:8080/"
        },
        "id": "FPeuupL1m484",
        "outputId": "d27fd952-1cca-4d26-9d1b-1fdcf67d8121"
      },
      "execution_count": 55,
      "outputs": [
        {
          "output_type": "stream",
          "name": "stdout",
          "text": [
            "1/1 [==============================] - 0s 22ms/step\n",
            "5\n",
            "Predicted Genre for Segment: jazz\n",
            "Probability for Predicted Genre: 99.89%\n",
            "1/1 [==============================] - 0s 23ms/step\n",
            "7\n",
            "Predicted Genre for Segment: pop\n",
            "Probability for Predicted Genre: 93.96%\n",
            "1/1 [==============================] - 0s 25ms/step\n",
            "7\n",
            "Predicted Genre for Segment: pop\n",
            "Probability for Predicted Genre: 60.88%\n",
            "1/1 [==============================] - 0s 23ms/step\n",
            "1\n",
            "Predicted Genre for Segment: classical\n",
            "Probability for Predicted Genre: 42.23%\n",
            "1/1 [==============================] - 0s 22ms/step\n",
            "1\n",
            "Predicted Genre for Segment: classical\n",
            "Probability for Predicted Genre: 55.65%\n",
            "1/1 [==============================] - 0s 22ms/step\n",
            "1\n",
            "Predicted Genre for Segment: classical\n",
            "Probability for Predicted Genre: 68.73%\n",
            "1/1 [==============================] - 0s 39ms/step\n",
            "5\n",
            "Predicted Genre for Segment: jazz\n",
            "Probability for Predicted Genre: 35.85%\n",
            "1/1 [==============================] - 0s 33ms/step\n",
            "7\n",
            "Predicted Genre for Segment: pop\n",
            "Probability for Predicted Genre: 61.94%\n",
            "1/1 [==============================] - 0s 22ms/step\n",
            "5\n",
            "Predicted Genre for Segment: jazz\n",
            "Probability for Predicted Genre: 63.13%\n",
            "1/1 [==============================] - 0s 23ms/step\n",
            "5\n",
            "Predicted Genre for Segment: jazz\n",
            "Probability for Predicted Genre: 65.16%\n",
            "1/1 [==============================] - 0s 21ms/step\n",
            "5\n",
            "Predicted Genre for Segment: jazz\n",
            "Probability for Predicted Genre: 49.21%\n",
            "1/1 [==============================] - 0s 21ms/step\n",
            "5\n",
            "Predicted Genre for Segment: jazz\n",
            "Probability for Predicted Genre: 52.84%\n",
            "1/1 [==============================] - 0s 24ms/step\n",
            "1\n",
            "Predicted Genre for Segment: classical\n",
            "Probability for Predicted Genre: 71.72%\n",
            "1/1 [==============================] - 0s 20ms/step\n",
            "1\n",
            "Predicted Genre for Segment: classical\n",
            "Probability for Predicted Genre: 36.36%\n",
            "1/1 [==============================] - 0s 21ms/step\n",
            "5\n",
            "Predicted Genre for Segment: jazz\n",
            "Probability for Predicted Genre: 54.18%\n",
            "1/1 [==============================] - 0s 25ms/step\n",
            "5\n",
            "Predicted Genre for Segment: jazz\n",
            "Probability for Predicted Genre: 58.02%\n",
            "1/1 [==============================] - 0s 24ms/step\n",
            "1\n",
            "Predicted Genre for Segment: classical\n",
            "Probability for Predicted Genre: 90.81%\n",
            "1/1 [==============================] - 0s 28ms/step\n",
            "1\n",
            "Predicted Genre for Segment: classical\n",
            "Probability for Predicted Genre: 69.23%\n",
            "1/1 [==============================] - 0s 22ms/step\n",
            "5\n",
            "Predicted Genre for Segment: jazz\n",
            "Probability for Predicted Genre: 50.55%\n",
            "1/1 [==============================] - 0s 23ms/step\n",
            "5\n",
            "Predicted Genre for Segment: jazz\n",
            "Probability for Predicted Genre: 62.64%\n",
            "1/1 [==============================] - 0s 24ms/step\n",
            "5\n",
            "Predicted Genre for Segment: jazz\n",
            "Probability for Predicted Genre: 66.40%\n",
            "1/1 [==============================] - 0s 31ms/step\n",
            "1\n",
            "Predicted Genre for Segment: classical\n",
            "Probability for Predicted Genre: 43.11%\n",
            "1/1 [==============================] - 0s 20ms/step\n",
            "5\n",
            "Predicted Genre for Segment: jazz\n",
            "Probability for Predicted Genre: 96.11%\n",
            "1/1 [==============================] - 0s 24ms/step\n",
            "5\n",
            "Predicted Genre for Segment: jazz\n",
            "Probability for Predicted Genre: 99.70%\n",
            "1/1 [==============================] - 0s 26ms/step\n",
            "5\n",
            "Predicted Genre for Segment: jazz\n",
            "Probability for Predicted Genre: 99.87%\n",
            "1/1 [==============================] - 0s 27ms/step\n",
            "5\n",
            "Predicted Genre for Segment: jazz\n",
            "Probability for Predicted Genre: 58.98%\n",
            "1/1 [==============================] - 0s 24ms/step\n",
            "5\n",
            "Predicted Genre for Segment: jazz\n",
            "Probability for Predicted Genre: 68.85%\n",
            "1/1 [==============================] - 0s 21ms/step\n",
            "7\n",
            "Predicted Genre for Segment: pop\n",
            "Probability for Predicted Genre: 60.30%\n",
            "1/1 [==============================] - 0s 25ms/step\n",
            "7\n",
            "Predicted Genre for Segment: pop\n",
            "Probability for Predicted Genre: 38.80%\n",
            "1/1 [==============================] - 0s 26ms/step\n",
            "5\n",
            "Predicted Genre for Segment: jazz\n",
            "Probability for Predicted Genre: 40.46%\n",
            "1/1 [==============================] - 0s 25ms/step\n",
            "5\n",
            "Predicted Genre for Segment: jazz\n",
            "Probability for Predicted Genre: 47.08%\n",
            "1/1 [==============================] - 0s 26ms/step\n",
            "7\n",
            "Predicted Genre for Segment: pop\n",
            "Probability for Predicted Genre: 50.55%\n",
            "1/1 [==============================] - 0s 20ms/step\n",
            "5\n",
            "Predicted Genre for Segment: jazz\n",
            "Probability for Predicted Genre: 51.10%\n",
            "1/1 [==============================] - 0s 25ms/step\n",
            "1\n",
            "Predicted Genre for Segment: classical\n",
            "Probability for Predicted Genre: 74.45%\n",
            "1/1 [==============================] - 0s 35ms/step\n",
            "1\n",
            "Predicted Genre for Segment: classical\n",
            "Probability for Predicted Genre: 84.99%\n",
            "1/1 [==============================] - 0s 25ms/step\n",
            "1\n",
            "Predicted Genre for Segment: classical\n",
            "Probability for Predicted Genre: 87.36%\n",
            "1/1 [==============================] - 0s 21ms/step\n",
            "1\n",
            "Predicted Genre for Segment: classical\n",
            "Probability for Predicted Genre: 78.38%\n",
            "1/1 [==============================] - 0s 24ms/step\n",
            "1\n",
            "Predicted Genre for Segment: classical\n",
            "Probability for Predicted Genre: 94.91%\n",
            "1/1 [==============================] - 0s 25ms/step\n",
            "1\n",
            "Predicted Genre for Segment: classical\n",
            "Probability for Predicted Genre: 64.90%\n",
            "1/1 [==============================] - 0s 33ms/step\n",
            "1\n",
            "Predicted Genre for Segment: classical\n",
            "Probability for Predicted Genre: 81.22%\n",
            "1/1 [==============================] - 0s 23ms/step\n",
            "5\n",
            "Predicted Genre for Segment: jazz\n",
            "Probability for Predicted Genre: 99.22%\n",
            "1/1 [==============================] - 0s 24ms/step\n",
            "5\n",
            "Predicted Genre for Segment: jazz\n",
            "Probability for Predicted Genre: 99.88%\n",
            "1/1 [==============================] - 0s 27ms/step\n",
            "5\n",
            "Predicted Genre for Segment: jazz\n",
            "Probability for Predicted Genre: 91.89%\n",
            "1/1 [==============================] - 0s 25ms/step\n",
            "7\n",
            "Predicted Genre for Segment: pop\n",
            "Probability for Predicted Genre: 52.66%\n",
            "1/1 [==============================] - 0s 30ms/step\n",
            "7\n",
            "Predicted Genre for Segment: pop\n",
            "Probability for Predicted Genre: 60.29%\n",
            "1/1 [==============================] - 0s 26ms/step\n",
            "7\n",
            "Predicted Genre for Segment: pop\n",
            "Probability for Predicted Genre: 49.23%\n",
            "1/1 [==============================] - 0s 25ms/step\n",
            "5\n",
            "Predicted Genre for Segment: jazz\n",
            "Probability for Predicted Genre: 58.08%\n",
            "1/1 [==============================] - 0s 28ms/step\n",
            "5\n",
            "Predicted Genre for Segment: jazz\n",
            "Probability for Predicted Genre: 88.24%\n",
            "1/1 [==============================] - 0s 25ms/step\n",
            "7\n",
            "Predicted Genre for Segment: pop\n",
            "Probability for Predicted Genre: 74.96%\n",
            "1/1 [==============================] - 0s 25ms/step\n",
            "5\n",
            "Predicted Genre for Segment: jazz\n",
            "Probability for Predicted Genre: 96.78%\n",
            "1/1 [==============================] - 0s 35ms/step\n",
            "5\n",
            "Predicted Genre for Segment: jazz\n",
            "Probability for Predicted Genre: 99.03%\n",
            "1/1 [==============================] - 0s 26ms/step\n",
            "5\n",
            "Predicted Genre for Segment: jazz\n",
            "Probability for Predicted Genre: 71.21%\n",
            "1/1 [==============================] - 0s 28ms/step\n",
            "5\n",
            "Predicted Genre for Segment: jazz\n",
            "Probability for Predicted Genre: 61.83%\n",
            "1/1 [==============================] - 0s 27ms/step\n",
            "5\n",
            "Predicted Genre for Segment: jazz\n",
            "Probability for Predicted Genre: 50.75%\n",
            "1/1 [==============================] - 0s 21ms/step\n",
            "7\n",
            "Predicted Genre for Segment: pop\n",
            "Probability for Predicted Genre: 54.45%\n",
            "1/1 [==============================] - 0s 23ms/step\n",
            "7\n",
            "Predicted Genre for Segment: pop\n",
            "Probability for Predicted Genre: 60.97%\n",
            "1/1 [==============================] - 0s 24ms/step\n",
            "7\n",
            "Predicted Genre for Segment: pop\n",
            "Probability for Predicted Genre: 57.77%\n",
            "1/1 [==============================] - 0s 27ms/step\n",
            "5\n",
            "Predicted Genre for Segment: jazz\n",
            "Probability for Predicted Genre: 42.28%\n",
            "1/1 [==============================] - 0s 25ms/step\n",
            "5\n",
            "Predicted Genre for Segment: jazz\n",
            "Probability for Predicted Genre: 64.88%\n",
            "1/1 [==============================] - 0s 25ms/step\n",
            "7\n",
            "Predicted Genre for Segment: pop\n",
            "Probability for Predicted Genre: 89.06%\n",
            "1/1 [==============================] - 0s 24ms/step\n",
            "7\n",
            "Predicted Genre for Segment: pop\n",
            "Probability for Predicted Genre: 96.94%\n",
            "1/1 [==============================] - 0s 26ms/step\n",
            "5\n",
            "Predicted Genre for Segment: jazz\n",
            "Probability for Predicted Genre: 56.10%\n",
            "1/1 [==============================] - 0s 25ms/step\n",
            "9\n",
            "Predicted Genre for Segment: rock\n",
            "Probability for Predicted Genre: 69.08%\n",
            "1/1 [==============================] - 0s 26ms/step\n",
            "5\n",
            "Predicted Genre for Segment: jazz\n",
            "Probability for Predicted Genre: 77.23%\n",
            "1/1 [==============================] - 0s 26ms/step\n",
            "5\n",
            "Predicted Genre for Segment: jazz\n",
            "Probability for Predicted Genre: 67.30%\n",
            "1/1 [==============================] - 0s 21ms/step\n",
            "7\n",
            "Predicted Genre for Segment: pop\n",
            "Probability for Predicted Genre: 96.23%\n",
            "1/1 [==============================] - 0s 24ms/step\n",
            "7\n",
            "Predicted Genre for Segment: pop\n",
            "Probability for Predicted Genre: 92.00%\n",
            "1/1 [==============================] - 0s 21ms/step\n",
            "7\n",
            "Predicted Genre for Segment: pop\n",
            "Probability for Predicted Genre: 50.44%\n",
            "1/1 [==============================] - 0s 24ms/step\n",
            "7\n",
            "Predicted Genre for Segment: pop\n",
            "Probability for Predicted Genre: 90.49%\n",
            "1/1 [==============================] - 0s 45ms/step\n",
            "7\n",
            "Predicted Genre for Segment: pop\n",
            "Probability for Predicted Genre: 97.12%\n",
            "1/1 [==============================] - 0s 26ms/step\n",
            "5\n",
            "Predicted Genre for Segment: jazz\n",
            "Probability for Predicted Genre: 68.81%\n",
            "1/1 [==============================] - 0s 23ms/step\n",
            "5\n",
            "Predicted Genre for Segment: jazz\n",
            "Probability for Predicted Genre: 89.28%\n",
            "1/1 [==============================] - 0s 21ms/step\n",
            "5\n",
            "Predicted Genre for Segment: jazz\n",
            "Probability for Predicted Genre: 95.86%\n",
            "1/1 [==============================] - 0s 33ms/step\n",
            "5\n",
            "Predicted Genre for Segment: jazz\n",
            "Probability for Predicted Genre: 99.97%\n",
            "1/1 [==============================] - 0s 26ms/step\n",
            "5\n",
            "Predicted Genre for Segment: jazz\n",
            "Probability for Predicted Genre: 99.97%\n",
            "1/1 [==============================] - 0s 21ms/step\n",
            "5\n",
            "Predicted Genre for Segment: jazz\n",
            "Probability for Predicted Genre: 99.88%\n",
            "1/1 [==============================] - 0s 21ms/step\n",
            "5\n",
            "Predicted Genre for Segment: jazz\n",
            "Probability for Predicted Genre: 81.11%\n",
            "1/1 [==============================] - 0s 22ms/step\n",
            "5\n",
            "Predicted Genre for Segment: jazz\n",
            "Probability for Predicted Genre: 99.88%\n",
            "1/1 [==============================] - 0s 32ms/step\n",
            "5\n",
            "Predicted Genre for Segment: jazz\n",
            "Probability for Predicted Genre: 98.61%\n",
            "1/1 [==============================] - 0s 26ms/step\n",
            "7\n",
            "Predicted Genre for Segment: pop\n",
            "Probability for Predicted Genre: 81.68%\n",
            "1/1 [==============================] - 0s 31ms/step\n",
            "5\n",
            "Predicted Genre for Segment: jazz\n",
            "Probability for Predicted Genre: 83.82%\n",
            "1/1 [==============================] - 0s 26ms/step\n",
            "9\n",
            "Predicted Genre for Segment: rock\n",
            "Probability for Predicted Genre: 55.08%\n",
            "1/1 [==============================] - 0s 22ms/step\n",
            "5\n",
            "Predicted Genre for Segment: jazz\n",
            "Probability for Predicted Genre: 64.81%\n",
            "1/1 [==============================] - 0s 24ms/step\n",
            "5\n",
            "Predicted Genre for Segment: jazz\n",
            "Probability for Predicted Genre: 73.40%\n",
            "1/1 [==============================] - 0s 21ms/step\n",
            "7\n",
            "Predicted Genre for Segment: pop\n",
            "Probability for Predicted Genre: 50.76%\n",
            "1/1 [==============================] - 0s 21ms/step\n",
            "7\n",
            "Predicted Genre for Segment: pop\n",
            "Probability for Predicted Genre: 58.47%\n",
            "1/1 [==============================] - 0s 21ms/step\n",
            "7\n",
            "Predicted Genre for Segment: pop\n",
            "Probability for Predicted Genre: 69.34%\n",
            "1/1 [==============================] - 0s 23ms/step\n",
            "7\n",
            "Predicted Genre for Segment: pop\n",
            "Probability for Predicted Genre: 81.63%\n",
            "1/1 [==============================] - 0s 28ms/step\n",
            "7\n",
            "Predicted Genre for Segment: pop\n",
            "Probability for Predicted Genre: 95.68%\n",
            "1/1 [==============================] - 0s 24ms/step\n",
            "5\n",
            "Predicted Genre for Segment: jazz\n",
            "Probability for Predicted Genre: 55.18%\n",
            "1/1 [==============================] - 0s 26ms/step\n",
            "5\n",
            "Predicted Genre for Segment: jazz\n",
            "Probability for Predicted Genre: 81.60%\n",
            "1/1 [==============================] - 0s 21ms/step\n",
            "5\n",
            "Predicted Genre for Segment: jazz\n",
            "Probability for Predicted Genre: 95.36%\n",
            "1/1 [==============================] - 0s 20ms/step\n",
            "5\n",
            "Predicted Genre for Segment: jazz\n",
            "Probability for Predicted Genre: 99.97%\n",
            "1/1 [==============================] - 0s 25ms/step\n",
            "5\n",
            "Predicted Genre for Segment: jazz\n",
            "Probability for Predicted Genre: 99.99%\n",
            "1/1 [==============================] - 0s 26ms/step\n",
            "5\n",
            "Predicted Genre for Segment: jazz\n",
            "Probability for Predicted Genre: 99.98%\n",
            "1/1 [==============================] - 0s 26ms/step\n",
            "5\n",
            "Predicted Genre for Segment: jazz\n",
            "Probability for Predicted Genre: 97.04%\n",
            "1/1 [==============================] - 0s 23ms/step\n",
            "5\n",
            "Predicted Genre for Segment: jazz\n",
            "Probability for Predicted Genre: 99.59%\n",
            "1/1 [==============================] - 0s 26ms/step\n",
            "5\n",
            "Predicted Genre for Segment: jazz\n",
            "Probability for Predicted Genre: 96.74%\n",
            "1/1 [==============================] - 0s 26ms/step\n",
            "7\n",
            "Predicted Genre for Segment: pop\n",
            "Probability for Predicted Genre: 93.23%\n",
            "1/1 [==============================] - 0s 26ms/step\n",
            "5\n",
            "Predicted Genre for Segment: jazz\n",
            "Probability for Predicted Genre: 51.98%\n",
            "1/1 [==============================] - 0s 25ms/step\n",
            "9\n",
            "Predicted Genre for Segment: rock\n",
            "Probability for Predicted Genre: 71.44%\n",
            "1/1 [==============================] - 0s 25ms/step\n",
            "7\n",
            "Predicted Genre for Segment: pop\n",
            "Probability for Predicted Genre: 82.59%\n",
            "1/1 [==============================] - 0s 25ms/step\n",
            "5\n",
            "Predicted Genre for Segment: jazz\n",
            "Probability for Predicted Genre: 53.46%\n",
            "1/1 [==============================] - 0s 27ms/step\n",
            "1\n",
            "Predicted Genre for Segment: classical\n",
            "Probability for Predicted Genre: 67.30%\n",
            "1/1 [==============================] - 0s 20ms/step\n",
            "5\n",
            "Predicted Genre for Segment: jazz\n",
            "Probability for Predicted Genre: 65.72%\n",
            "1/1 [==============================] - 0s 25ms/step\n",
            "7\n",
            "Predicted Genre for Segment: pop\n",
            "Probability for Predicted Genre: 34.71%\n",
            "1/1 [==============================] - 0s 26ms/step\n",
            "7\n",
            "Predicted Genre for Segment: pop\n",
            "Probability for Predicted Genre: 42.01%\n",
            "1/1 [==============================] - 0s 25ms/step\n",
            "1\n",
            "Predicted Genre for Segment: classical\n",
            "Probability for Predicted Genre: 54.22%\n",
            "1/1 [==============================] - 0s 22ms/step\n",
            "1\n",
            "Predicted Genre for Segment: classical\n",
            "Probability for Predicted Genre: 91.03%\n",
            "1/1 [==============================] - 0s 20ms/step\n",
            "1\n",
            "Predicted Genre for Segment: classical\n",
            "Probability for Predicted Genre: 78.42%\n",
            "1/1 [==============================] - 0s 35ms/step\n",
            "1\n",
            "Predicted Genre for Segment: classical\n",
            "Probability for Predicted Genre: 80.67%\n",
            "1/1 [==============================] - 0s 21ms/step\n",
            "1\n",
            "Predicted Genre for Segment: classical\n",
            "Probability for Predicted Genre: 88.68%\n",
            "1/1 [==============================] - 0s 22ms/step\n",
            "1\n",
            "Predicted Genre for Segment: classical\n",
            "Probability for Predicted Genre: 94.84%\n",
            "1/1 [==============================] - 0s 20ms/step\n",
            "1\n",
            "Predicted Genre for Segment: classical\n",
            "Probability for Predicted Genre: 49.77%\n",
            "1/1 [==============================] - 0s 20ms/step\n",
            "1\n",
            "Predicted Genre for Segment: classical\n",
            "Probability for Predicted Genre: 77.62%\n",
            "1/1 [==============================] - 0s 20ms/step\n",
            "5\n",
            "Predicted Genre for Segment: jazz\n",
            "Probability for Predicted Genre: 99.58%\n",
            "1/1 [==============================] - 0s 20ms/step\n",
            "5\n",
            "Predicted Genre for Segment: jazz\n",
            "Probability for Predicted Genre: 100.00%\n",
            "1/1 [==============================] - 0s 22ms/step\n",
            "5\n",
            "Predicted Genre for Segment: jazz\n",
            "Probability for Predicted Genre: 98.83%\n",
            "1/1 [==============================] - 0s 26ms/step\n",
            "7\n",
            "Predicted Genre for Segment: pop\n",
            "Probability for Predicted Genre: 77.76%\n",
            "1/1 [==============================] - 0s 26ms/step\n",
            "5\n",
            "Predicted Genre for Segment: jazz\n",
            "Probability for Predicted Genre: 86.19%\n",
            "1/1 [==============================] - 0s 26ms/step\n",
            "5\n",
            "Predicted Genre for Segment: jazz\n",
            "Probability for Predicted Genre: 91.36%\n",
            "1/1 [==============================] - 0s 20ms/step\n",
            "5\n",
            "Predicted Genre for Segment: jazz\n",
            "Probability for Predicted Genre: 47.39%\n",
            "1/1 [==============================] - 0s 24ms/step\n",
            "5\n",
            "Predicted Genre for Segment: jazz\n",
            "Probability for Predicted Genre: 60.93%\n",
            "1/1 [==============================] - 0s 24ms/step\n",
            "5\n",
            "Predicted Genre for Segment: jazz\n",
            "Probability for Predicted Genre: 55.28%\n",
            "1/1 [==============================] - 0s 26ms/step\n",
            "5\n",
            "Predicted Genre for Segment: jazz\n",
            "Probability for Predicted Genre: 67.56%\n",
            "1/1 [==============================] - 0s 31ms/step\n",
            "5\n",
            "Predicted Genre for Segment: jazz\n",
            "Probability for Predicted Genre: 99.96%\n",
            "1/1 [==============================] - 0s 26ms/step\n",
            "5\n",
            "Predicted Genre for Segment: jazz\n",
            "Probability for Predicted Genre: 100.00%\n",
            "1/1 [==============================] - 0s 23ms/step\n",
            "5\n",
            "Predicted Genre for Segment: jazz\n",
            "Probability for Predicted Genre: 99.97%\n",
            "\n",
            "Overall Predicted Genre for the Entire Audio File: jazz\n"
          ]
        }
      ]
    }
  ]
}